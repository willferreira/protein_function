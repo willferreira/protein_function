{
 "worksheets": [
  {
   "cells": [
    {
     "cell_type": "code",
     "metadata": {},
     "outputs": [],
     "input": [
      "from nltk import bigrams, trigrams"
     ],
     "language": "python",
     "prompt_number": 8
    },
    {
     "cell_type": "code",
     "metadata": {},
     "outputs": [
      {
       "output_type": "pyout",
       "prompt_number": 11,
       "text": [
        "[(1, 2), (2, 3), (3, 4)]"
       ],
       "metadata": {}
      }
     ],
     "input": [
      "list(bigrams([1,2,3,4]))"
     ],
     "language": "python",
     "prompt_number": 11
    },
    {
     "cell_type": "code",
     "metadata": {},
     "outputs": [],
     "input": [
      "import pandas as pd"
     ],
     "language": "python",
     "prompt_number": 12
    },
    {
     "cell_type": "code",
     "metadata": {},
     "outputs": [],
     "input": [
      "labels = [\"A\", \"B\", \"C\"]\n",
      "df = pd.DataFrame(index=labels, columns = labels, data=0.0)"
     ],
     "language": "python",
     "prompt_number": 20
    },
    {
     "cell_type": "code",
     "metadata": {},
     "outputs": [
      {
       "output_type": "pyout",
       "html": [
        "<div style=\"max-height:1000px;max-width:1500px;overflow:auto;\">\n",
        "<table border=\"1\" class=\"dataframe\">\n",
        "  <thead>\n",
        "    <tr style=\"text-align: right;\">\n",
        "      <th></th>\n",
        "      <th>A</th>\n",
        "      <th>B</th>\n",
        "      <th>C</th>\n",
        "    </tr>\n",
        "  </thead>\n",
        "  <tbody>\n",
        "    <tr>\n",
        "      <th>A</th>\n",
        "      <td> 0</td>\n",
        "      <td> 0</td>\n",
        "      <td> 0</td>\n",
        "    </tr>\n",
        "    <tr>\n",
        "      <th>B</th>\n",
        "      <td> 0</td>\n",
        "      <td> 0</td>\n",
        "      <td> 0</td>\n",
        "    </tr>\n",
        "    <tr>\n",
        "      <th>C</th>\n",
        "      <td> 0</td>\n",
        "      <td> 0</td>\n",
        "      <td> 0</td>\n",
        "    </tr>\n",
        "  </tbody>\n",
        "</table>\n",
        "</div>"
       ],
       "text": [
        "   A  B  C\n",
        "A  0  0  0\n",
        "B  0  0  0\n",
        "C  0  0  0"
       ],
       "metadata": {}
      }
     ],
     "input": [
      "df"
     ],
     "language": "python",
     "prompt_number": 21
    },
    {
     "cell_type": "code",
     "metadata": {},
     "outputs": [],
     "input": [
      "import utils"
     ],
     "language": "python",
     "prompt_number": 1
    },
    {
     "cell_type": "code",
     "metadata": {},
     "outputs": [],
     "input": [
      "X, y = utils.load_training_data()"
     ],
     "language": "python",
     "prompt_number": 2
    },
    {
     "cell_type": "code",
     "metadata": {},
     "outputs": [
      {
       "output_type": "pyout",
       "prompt_number": 3,
       "text": [
        "9222"
       ],
       "metadata": {}
      }
     ],
     "input": [
      "len(X)"
     ],
     "language": "python",
     "prompt_number": 3
    },
    {
     "cell_type": "code",
     "metadata": {},
     "outputs": [
      {
       "output_type": "pyout",
       "prompt_number": 4,
       "text": [
        "9222"
       ],
       "metadata": {}
      }
     ],
     "input": [
      "len(y)"
     ],
     "language": "python",
     "prompt_number": 4
    },
    {
     "cell_type": "code",
     "metadata": {},
     "outputs": [
      {
       "output_type": "pyout",
       "prompt_number": 5,
       "text": [
        "'cyto'"
       ],
       "metadata": {}
      }
     ],
     "input": [
      "y[0]"
     ],
     "language": "python",
     "prompt_number": 5
    },
    {
     "cell_type": "code",
     "metadata": {},
     "outputs": [
      {
       "output_type": "pyout",
       "prompt_number": 6,
       "text": [
        "SeqRecord(seq=Seq('MGQQVGRVGEAPGLQQPQPRGIRGSSAARPSGRRRDPAGRTADAGFNVFTQHDH...VQR', SingleLetterAlphabet()), id='sp|Q4JIM5|ABL2_MOUSE', name='sp|Q4JIM5|ABL2_MOUSE', description='sp|Q4JIM5|ABL2_MOUSE Abelson tyrosine-protein kinase 2 OS=Mus musculus GN=Abl2 PE=1 SV=1', dbxrefs=[])"
       ],
       "metadata": {}
      }
     ],
     "input": [
      "X[0]"
     ],
     "language": "python",
     "prompt_number": 6
    },
    {
     "cell_type": "code",
     "metadata": {},
     "outputs": [],
     "input": [
      "from sklearn.cross_validation import train_test_split"
     ],
     "language": "python",
     "prompt_number": 7
    },
    {
     "cell_type": "code",
     "metadata": {},
     "outputs": [],
     "input": [
      "X_train, X_test, y_train, y_test = train_test_split(X, y, test_size=0.2, random_state=42)"
     ],
     "language": "python",
     "prompt_number": 8
    },
    {
     "cell_type": "code",
     "metadata": {},
     "outputs": [
      {
       "ename": "TypeError",
       "evalue": "list indices must be integers, not list",
       "output_type": "pyerr",
       "traceback": [
        "\u001b[0;31m---------------------------------------------------------------------------\u001b[0m\n\u001b[0;31mTypeError\u001b[0m                                 Traceback (most recent call last)",
        "\u001b[0;32m<ipython-input-16-ba7bee888027>\u001b[0m in \u001b[0;36m<module>\u001b[0;34m()\u001b[0m\n\u001b[0;32m----> 1\u001b[0;31m \u001b[0mX_train\u001b[0m\u001b[0;34m[\u001b[0m\u001b[0;34m[\u001b[0m\u001b[0;36m1\u001b[0m\u001b[0;34m,\u001b[0m \u001b[0;36m2\u001b[0m\u001b[0;34m,\u001b[0m \u001b[0;36m3\u001b[0m\u001b[0;34m,\u001b[0m \u001b[0;36m6\u001b[0m\u001b[0;34m]\u001b[0m\u001b[0;34m]\u001b[0m\u001b[0;34m\u001b[0m\u001b[0m\n\u001b[0m",
        "\u001b[0;31mTypeError\u001b[0m: list indices must be integers, not list"
       ]
      }
     ],
     "input": [
      "X_train[[1, 2, 3, 6]]"
     ],
     "language": "python",
     "prompt_number": 16
    },
    {
     "cell_type": "code",
     "metadata": {},
     "outputs": [],
     "input": [
      "from Bio.SeqUtils.ProtParam import ProteinAnalysis"
     ],
     "language": "python",
     "prompt_number": 7
    },
    {
     "cell_type": "code",
     "metadata": {},
     "outputs": [],
     "input": [
      "p = ProteinAnalysis(\"MGQQVGRVGEAPGLQQPQPRGIRGSSAARPSGRRRDPAGRTADAGFNVFTQHDH\")"
     ],
     "language": "python",
     "prompt_number": 9
    },
    {
     "cell_type": "code",
     "metadata": {},
     "outputs": [
      {
       "output_type": "pyout",
       "prompt_number": 18,
       "text": [
        "{'W': 0,\n",
        " 'V': 3,\n",
        " 'T': 2,\n",
        " 'S': 3,\n",
        " 'R': 8,\n",
        " 'Q': 6,\n",
        " 'P': 5,\n",
        " 'Y': 0,\n",
        " 'G': 9,\n",
        " 'F': 2,\n",
        " 'E': 1,\n",
        " 'D': 3,\n",
        " 'C': 0,\n",
        " 'A': 6,\n",
        " 'N': 1,\n",
        " 'M': 1,\n",
        " 'L': 1,\n",
        " 'K': 0,\n",
        " 'I': 1,\n",
        " 'H': 2}"
       ],
       "metadata": {}
      }
     ],
     "input": [
      "p.count_amino_acids()"
     ],
     "language": "python",
     "prompt_number": 18
    },
    {
     "cell_type": "code",
     "metadata": {},
     "outputs": [
      {
       "output_type": "pyout",
       "prompt_number": 20,
       "text": [
        "0.037037037037037035"
       ],
       "metadata": {}
      }
     ],
     "input": [
      "p.aromaticity()"
     ],
     "language": "python",
     "prompt_number": 20
    },
    {
     "cell_type": "code",
     "metadata": {},
     "outputs": [
      {
       "output_type": "pyout",
       "prompt_number": 21,
       "text": [
        "5737.2301000000025"
       ],
       "metadata": {}
      }
     ],
     "input": [
      "p.molecular_weight()"
     ],
     "language": "python",
     "prompt_number": 21
    },
    {
     "cell_type": "code",
     "metadata": {},
     "outputs": [
      {
       "output_type": "pyout",
       "prompt_number": 22,
       "text": [
        "['A', 'B', 'C']"
       ],
       "metadata": {}
      }
     ],
     "input": [
      "list(\"ABC\")"
     ],
     "language": "python",
     "prompt_number": 22
    },
    {
     "cell_type": "code",
     "metadata": {},
     "outputs": [],
     "input": [
      "AMINO_ACIDS = list(\"ABCDEFGHIKLMNPQRSTUVWXY\")"
     ],
     "language": "python",
     "prompt_number": 23
    },
    {
     "cell_type": "code",
     "metadata": {},
     "outputs": [],
     "input": [
      "import itertools as it\n",
      "_MAX_NGRAMS = 4\n",
      "_ngrams = []\n",
      "for i in range(1, _MAX_NGRAMS+1):\n",
      "    _ngrams.extend(it.product(*[AMINO_ACIDS]*i))"
     ],
     "language": "python",
     "prompt_number": 28
    },
    {
     "cell_type": "code",
     "metadata": {},
     "outputs": [
      {
       "output_type": "pyout",
       "prompt_number": 29,
       "text": [
        "292560"
       ],
       "metadata": {}
      }
     ],
     "input": [
      "len(_ngrams)"
     ],
     "language": "python",
     "prompt_number": 29
    },
    {
     "cell_type": "code",
     "metadata": {},
     "outputs": [
      {
       "output_type": "pyout",
       "prompt_number": 30,
       "text": [
        "[('Y', 'Y', 'Y', 'W'), ('Y', 'Y', 'Y', 'X'), ('Y', 'Y', 'Y', 'Y')]"
       ],
       "metadata": {}
      }
     ],
     "input": [
      "_ngrams[-3:]"
     ],
     "language": "python",
     "prompt_number": 30
    },
    {
     "cell_type": "code",
     "metadata": {},
     "outputs": [
      {
       "output_type": "pyout",
       "prompt_number": 31,
       "text": [
        "[('A',), ('B',), ('C',)]"
       ],
       "metadata": {}
      }
     ],
     "input": [
      "_ngrams[:3]"
     ],
     "language": "python",
     "prompt_number": 31
    },
    {
     "cell_type": "code",
     "metadata": {},
     "outputs": [],
     "input": [
      "from nltk.util import ngrams"
     ],
     "language": "python",
     "prompt_number": 32
    },
    {
     "cell_type": "code",
     "metadata": {},
     "outputs": [],
     "input": [
      "ngrams?"
     ],
     "language": "python",
     "prompt_number": 33
    },
    {
     "cell_type": "code",
     "metadata": {},
     "outputs": [
      {
       "output_type": "pyout",
       "prompt_number": 37,
       "text": [
        "[('A',), ('B',), ('C',)]"
       ],
       "metadata": {}
      }
     ],
     "input": [
      "list(ngrams([\"A\", \"B\", \"C\"], 1))"
     ],
     "language": "python",
     "prompt_number": 37
    },
    {
     "cell_type": "code",
     "metadata": {},
     "outputs": [],
     "input": [
      "from Bio.SeqUtils.ProtParam import ProteinAnalysis"
     ],
     "language": "python",
     "prompt_number": 38
    },
    {
     "cell_type": "code",
     "metadata": {},
     "outputs": [],
     "input": [
      "pa = ProteinAnalysis(\"AAMA\")"
     ],
     "language": "python",
     "prompt_number": 39
    },
    {
     "cell_type": "code",
     "metadata": {},
     "outputs": [
      {
       "output_type": "pyout",
       "prompt_number": 40,
       "text": [
        "362.445"
       ],
       "metadata": {}
      }
     ],
     "input": [
      "pa.molecular_weight()"
     ],
     "language": "python",
     "prompt_number": 40
    },
    {
     "cell_type": "code",
     "metadata": {},
     "outputs": [],
     "input": [
      ""
     ],
     "language": "python"
    }
   ]
  }
 ],
 "cells": [],
 "metadata": {
  "name": "",
  "signature": "sha256:32520d54fd9cbd85ab38b3a2392a9c55c1a562e6d92aef4cd99dffd4981c69f7"
 },
 "nbformat": 3,
 "nbformat_minor": 0
}